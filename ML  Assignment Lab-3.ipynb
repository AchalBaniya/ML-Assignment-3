{
 "cells": [
  {
   "cell_type": "code",
   "execution_count": 25,
   "id": "2312a1d6",
   "metadata": {},
   "outputs": [],
   "source": [
    "import pandas as pd\n",
    "import numpy as np\n",
    "import matplotlib.pyplot as plt"
   ]
  },
  {
   "cell_type": "markdown",
   "id": "f5a9d458",
   "metadata": {},
   "source": [
    "# A1. Evaluate the intraclass spread and interclass distances between the classes in your dataset. If your data deals with multiple classes, you can take any two classes. Steps below (refer below diagram for understanding):\n"
   ]
  },
  {
   "cell_type": "code",
   "execution_count": 26,
   "id": "2850d7c0",
   "metadata": {},
   "outputs": [
    {
     "name": "stdout",
     "output_type": "stream",
     "text": [
      " Mean: 92.71428571428571\n",
      " Mean: 91.75\n",
      " Mean: 93.66666666666667\n",
      " Mean: 91.8\n",
      " Mean: 92.13333333333334\n",
      " Mean: 92.16666666666667\n",
      " Mean: 92.4\n",
      " Mean: 92.20689655172414\n",
      " Mean: 91.84615384615384\n",
      " Mean: 92.125\n",
      " Mean: 92.1923076923077\n",
      " Mean: 92.0\n",
      " Mean: 92.61971830985915\n",
      " Mean: 92.26785714285714\n",
      " Mean: 92.73148148148148\n",
      " Mean: 92.38782051282051\n",
      " Mean: 92.51515151515152\n",
      " Mean: 92.41237113402062\n",
      " Mean: 92.35356600910471\n",
      " Mean: 92.42713567839196\n",
      " Mean: 92.44525547445255\n",
      " Mean: 92.47586206896551\n",
      "Standard Deviation: 1.6659862556700857\n",
      "Standard Deviation: 0.82915619758885\n",
      "Standard Deviation: 2.494438257849294\n",
      "Standard Deviation: 1.630950643030009\n",
      "Standard Deviation: 1.627540748764494\n",
      "Standard Deviation: 1.6244657241348273\n",
      "Standard Deviation: 1.8681541692269406\n",
      "Standard Deviation: 1.5398009352942144\n",
      "Standard Deviation: 1.6569737868106162\n",
      "Standard Deviation: 1.7712009422360235\n",
      "Standard Deviation: 1.7978455219261913\n",
      "Standard Deviation: 1.5236235005501102\n",
      "Standard Deviation: 2.141910409503817\n",
      "Standard Deviation: 1.6635919768098535\n",
      "Standard Deviation: 2.339699575054224\n",
      "Standard Deviation: 1.8997922608672277\n",
      "Standard Deviation: 1.9062027214929167\n",
      "Standard Deviation: 2.0013015214568\n",
      "Standard Deviation: 1.8870290898275106\n",
      "Standard Deviation: 1.9083175090271833\n",
      "Standard Deviation: 1.7849862146006408\n",
      "Standard Deviation: 1.8720549602184464\n"
     ]
    }
   ],
   "source": [
    "#• Calculate the mean for each class (also called as class centroid)\n",
    "# (Suggestion: You may use numpy.mean() function for finding the average vector for all \n",
    "# vectors in a given class. Please define the axis property appropriately to use this function. EX: \n",
    "# feat_vecs.mean(axis=0))\n",
    "# • Calculate spread (standard deviation) for each class\n",
    "# (Suggestion: You may use numpy.std() function for finding the standard deviation vector \n",
    "# for all vectors in a given class. Please define the axis property appropriately to use this \n",
    "# function.)\n",
    "# • Calculate the distance between mean vectors between classes\n",
    "# (Suggestion: numpy.linalg.norm(centroid1 – centroid2) gives the Euclidean \n",
    "# distance between two centroids.)\n",
    "\n",
    "df= pd.read_csv(\"C:\\\\Users\\\\91993\\\\Downloads\\\\Dataset.csv\")\n",
    "grouped_data = df.groupby('smart_1_normalized')\n",
    "means = []\n",
    "std_devs = []\n",
    "for label, group in grouped_data:\n",
    "     mean = np.mean(group['smart_3_normalized'],axis=0) \n",
    "    std_dev = np.std(group['smart_3_normalized'],axis=0)  \n",
    "    means.append((label, mean))\n",
    "    sd.append((label, sd))\n",
    "for label, mean in means:\n",
    "    print(f\" Mean: {mean}\")\n",
    "for label, std_dev in std_devs:\n",
    "    print(f\"Standard Deviation: {sd}\")"
   ]
  },
  {
   "cell_type": "code",
   "execution_count": 27,
   "id": "bd9c13a5",
   "metadata": {},
   "outputs": [
    {
     "name": "stdout",
     "output_type": "stream",
     "text": [
      "Distance between 91 and 99: 0.9642857142857082\n",
      "Distance between 91 and 101: 0.9523809523809632\n",
      "Distance between 91 and 102: 0.914285714285711\n",
      "Distance between 91 and 103: 0.5809523809523682\n",
      "Distance between 91 and 104: 0.5476190476190368\n",
      "Distance between 91 and 105: 0.3142857142857025\n",
      "Distance between 91 and 106: 0.5073891625615659\n",
      "Distance between 91 and 107: 0.8681318681318686\n",
      "Distance between 91 and 108: 0.5892857142857082\n",
      "Distance between 91 and 109: 0.5219780219780148\n",
      "Distance between 91 and 110: 0.7142857142857082\n",
      "Distance between 91 and 111: 0.09456740442655587\n",
      "Distance between 91 and 112: 0.4464285714285694\n",
      "Distance between 91 and 113: 0.01719576719577276\n",
      "Distance between 91 and 114: 0.3264652014651972\n",
      "Distance between 91 and 115: 0.1991341991341926\n",
      "Distance between 91 and 116: 0.3019145802650911\n",
      "Distance between 91 and 117: 0.3607197051809976\n",
      "Distance between 91 and 118: 0.2871500358937453\n",
      "Distance between 91 and 119: 0.26903023983315677\n",
      "Distance between 91 and 120: 0.23842364532019644\n",
      "Distance between 99 and 101: 1.9166666666666714\n",
      "Distance between 99 and 102: 0.04999999999999716\n",
      "Distance between 99 and 103: 0.38333333333333997\n",
      "Distance between 99 and 104: 0.4166666666666714\n",
      "Distance between 99 and 105: 0.6500000000000057\n",
      "Distance between 99 and 106: 0.45689655172414234\n",
      "Distance between 99 and 107: 0.0961538461538396\n",
      "Distance between 99 and 108: 0.375\n",
      "Distance between 99 and 109: 0.4423076923076934\n",
      "Distance between 99 and 110: 0.25\n",
      "Distance between 99 and 111: 0.8697183098591523\n",
      "Distance between 99 and 112: 0.5178571428571388\n",
      "Distance between 99 and 113: 0.981481481481481\n",
      "Distance between 99 and 114: 0.637820512820511\n",
      "Distance between 99 and 115: 0.7651515151515156\n",
      "Distance between 99 and 116: 0.6623711340206171\n",
      "Distance between 99 and 117: 0.6035660091047106\n",
      "Distance between 99 and 118: 0.6771356783919629\n",
      "Distance between 99 and 119: 0.6952554744525514\n",
      "Distance between 99 and 120: 0.7258620689655118\n",
      "Distance between 101 and 102: 1.8666666666666742\n",
      "Distance between 101 and 103: 1.5333333333333314\n",
      "Distance between 101 and 104: 1.5\n",
      "Distance between 101 and 105: 1.2666666666666657\n",
      "Distance between 101 and 106: 1.459770114942529\n",
      "Distance between 101 and 107: 1.8205128205128318\n",
      "Distance between 101 and 108: 1.5416666666666714\n",
      "Distance between 101 and 109: 1.474358974358978\n",
      "Distance between 101 and 110: 1.6666666666666714\n",
      "Distance between 101 and 111: 1.046948356807519\n",
      "Distance between 101 and 112: 1.3988095238095326\n",
      "Distance between 101 and 113: 0.9351851851851904\n",
      "Distance between 101 and 114: 1.2788461538461604\n",
      "Distance between 101 and 115: 1.1515151515151558\n",
      "Distance between 101 and 116: 1.2542955326460543\n",
      "Distance between 101 and 117: 1.3131006575619608\n",
      "Distance between 101 and 118: 1.2395309882747085\n",
      "Distance between 101 and 119: 1.22141119221412\n",
      "Distance between 101 and 120: 1.1908045977011597\n",
      "Distance between 102 and 103: 0.3333333333333428\n",
      "Distance between 102 and 104: 0.36666666666667425\n",
      "Distance between 102 and 105: 0.6000000000000085\n",
      "Distance between 102 and 106: 0.4068965517241452\n",
      "Distance between 102 and 107: 0.04615384615384244\n",
      "Distance between 102 and 108: 0.32500000000000284\n",
      "Distance between 102 and 109: 0.39230769230769624\n",
      "Distance between 102 and 110: 0.20000000000000284\n",
      "Distance between 102 and 111: 0.8197183098591552\n",
      "Distance between 102 and 112: 0.46785714285714164\n",
      "Distance between 102 and 113: 0.9314814814814838\n",
      "Distance between 102 and 114: 0.5878205128205138\n",
      "Distance between 102 and 115: 0.7151515151515184\n",
      "Distance between 102 and 116: 0.6123711340206199\n",
      "Distance between 102 and 117: 0.5535660091047134\n",
      "Distance between 102 and 118: 0.6271356783919657\n",
      "Distance between 102 and 119: 0.6452554744525543\n",
      "Distance between 102 and 120: 0.6758620689655146\n",
      "Distance between 103 and 104: 0.03333333333333144\n",
      "Distance between 103 and 105: 0.2666666666666657\n",
      "Distance between 103 and 106: 0.07356321839080238\n",
      "Distance between 103 and 107: 0.28717948717950037\n",
      "Distance between 103 and 108: 0.008333333333339965\n",
      "Distance between 103 and 109: 0.058974358974353436\n",
      "Distance between 103 and 110: 0.13333333333333997\n",
      "Distance between 103 and 111: 0.48638497652581236\n",
      "Distance between 103 and 112: 0.13452380952379883\n",
      "Distance between 103 and 113: 0.598148148148141\n",
      "Distance between 103 and 114: 0.25448717948717103\n",
      "Distance between 103 and 115: 0.3818181818181756\n",
      "Distance between 103 and 116: 0.2790378006872771\n",
      "Distance between 103 and 117: 0.22023267577137062\n",
      "Distance between 103 and 118: 0.2938023450586229\n",
      "Distance between 103 and 119: 0.31192214111921146\n",
      "Distance between 103 and 120: 0.3425287356321718\n",
      "Distance between 104 and 105: 0.23333333333333428\n",
      "Distance between 104 and 106: 0.04022988505747094\n",
      "Distance between 104 and 107: 0.3205128205128318\n",
      "Distance between 104 and 108: 0.041666666666671404\n",
      "Distance between 104 and 109: 0.025641025641021997\n",
      "Distance between 104 and 110: 0.1666666666666714\n",
      "Distance between 104 and 111: 0.4530516431924809\n",
      "Distance between 104 and 112: 0.1011904761904674\n",
      "Distance between 104 and 113: 0.5648148148148096\n",
      "Distance between 104 and 114: 0.2211538461538396\n",
      "Distance between 104 and 115: 0.3484848484848442\n",
      "Distance between 104 and 116: 0.2457044673539457\n",
      "Distance between 104 and 117: 0.18689934243803918\n",
      "Distance between 104 and 118: 0.26046901172529147\n",
      "Distance between 104 and 119: 0.27858880778588\n",
      "Distance between 104 and 120: 0.30919540229884035\n",
      "Distance between 105 and 106: 0.19310344827586334\n",
      "Distance between 105 and 107: 0.5538461538461661\n",
      "Distance between 105 and 108: 0.2750000000000057\n",
      "Distance between 105 and 109: 0.20769230769231228\n",
      "Distance between 105 and 110: 0.4000000000000057\n",
      "Distance between 105 and 111: 0.21971830985914664\n",
      "Distance between 105 and 112: 0.1321428571428669\n",
      "Distance between 105 and 113: 0.33148148148147527\n",
      "Distance between 105 and 114: 0.012179487179494686\n",
      "Distance between 105 and 115: 0.1151515151515099\n",
      "Distance between 105 and 116: 0.012371134020611407\n",
      "Distance between 105 and 117: 0.046433990895295096\n",
      "Distance between 105 and 118: 0.027135678391957185\n",
      "Distance between 105 and 119: 0.04525547445254574\n",
      "Distance between 105 and 120: 0.07586206896550607\n",
      "Distance between 106 and 107: 0.36074270557030275\n",
      "Distance between 106 and 108: 0.08189655172414234\n",
      "Distance between 106 and 109: 0.01458885941644894\n",
      "Distance between 106 and 110: 0.20689655172414234\n",
      "Distance between 106 and 111: 0.41282175813501\n",
      "Distance between 106 and 112: 0.060960591132996456\n",
      "Distance between 106 and 113: 0.5245849297573386\n",
      "Distance between 106 and 114: 0.18092396109636866\n",
      "Distance between 106 and 115: 0.30825496342737324\n",
      "Distance between 106 and 116: 0.20547458229647475\n",
      "Distance between 106 and 117: 0.14666945738056825\n",
      "Distance between 106 and 118: 0.22023912666782053\n",
      "Distance between 106 and 119: 0.23835892272840908\n",
      "Distance between 106 and 120: 0.2689655172413694\n",
      "Distance between 107 and 108: 0.2788461538461604\n",
      "Distance between 107 and 109: 0.3461538461538538\n",
      "Distance between 107 and 110: 0.1538461538461604\n",
      "Distance between 107 and 111: 0.7735644637053127\n",
      "Distance between 107 and 112: 0.4217032967032992\n",
      "Distance between 107 and 113: 0.8853276353276414\n",
      "Distance between 107 and 114: 0.5416666666666714\n",
      "Distance between 107 and 115: 0.668997668997676\n",
      "Distance between 107 and 116: 0.5662172878667775\n",
      "Distance between 107 and 117: 0.507412162950871\n",
      "Distance between 107 and 118: 0.5809818322381233\n",
      "Distance between 107 and 119: 0.5991016282987118\n",
      "Distance between 107 and 120: 0.6297082228116722\n",
      "Distance between 108 and 109: 0.0673076923076934\n",
      "Distance between 108 and 110: 0.125\n",
      "Distance between 108 and 111: 0.4947183098591523\n",
      "Distance between 108 and 112: 0.1428571428571388\n",
      "Distance between 108 and 113: 0.606481481481481\n",
      "Distance between 108 and 114: 0.262820512820511\n",
      "Distance between 108 and 115: 0.3901515151515156\n",
      "Distance between 108 and 116: 0.2873711340206171\n",
      "Distance between 108 and 117: 0.2285660091047106\n",
      "Distance between 108 and 118: 0.30213567839196287\n",
      "Distance between 108 and 119: 0.3202554744525514\n",
      "Distance between 108 and 120: 0.35086206896551175\n",
      "Distance between 109 and 110: 0.1923076923076934\n",
      "Distance between 109 and 111: 0.4274106175514589\n",
      "Distance between 109 and 112: 0.0755494505494454\n",
      "Distance between 109 and 113: 0.5391737891737876\n",
      "Distance between 109 and 114: 0.1955128205128176\n",
      "Distance between 109 and 115: 0.3228438228438222\n",
      "Distance between 109 and 116: 0.2200634417129237\n",
      "Distance between 109 and 117: 0.1612583167970172\n",
      "Distance between 109 and 118: 0.23482798608426947\n",
      "Distance between 109 and 119: 0.252947782144858\n",
      "Distance between 109 and 120: 0.28355437665781835\n",
      "Distance between 110 and 111: 0.6197183098591523\n",
      "Distance between 110 and 112: 0.2678571428571388\n",
      "Distance between 110 and 113: 0.731481481481481\n",
      "Distance between 110 and 114: 0.387820512820511\n",
      "Distance between 110 and 115: 0.5151515151515156\n",
      "Distance between 110 and 116: 0.4123711340206171\n",
      "Distance between 110 and 117: 0.3535660091047106\n",
      "Distance between 110 and 118: 0.42713567839196287\n",
      "Distance between 110 and 119: 0.4452554744525514\n",
      "Distance between 110 and 120: 0.47586206896551175\n",
      "Distance between 111 and 112: 0.35186116700201353\n",
      "Distance between 111 and 113: 0.11176317162232863\n",
      "Distance between 111 and 114: 0.23189779703864133\n",
      "Distance between 111 and 115: 0.10456679470763675\n",
      "Distance between 111 and 116: 0.20734717583853524\n",
      "Distance between 111 and 117: 0.26615230075444174\n",
      "Distance between 111 and 118: 0.19258263146718946\n",
      "Distance between 111 and 119: 0.1744628354066009\n",
      "Distance between 111 and 120: 0.14385624089364057\n",
      "Distance between 112 and 113: 0.46362433862434216\n",
      "Distance between 112 and 114: 0.1199633699633722\n",
      "Distance between 112 and 115: 0.24729437229437679\n",
      "Distance between 112 and 116: 0.1445139911634783\n",
      "Distance between 112 and 117: 0.08570886624757179\n",
      "Distance between 112 and 118: 0.15927853553482407\n",
      "Distance between 112 and 119: 0.17739833159541263\n",
      "Distance between 112 and 120: 0.20800492610837296\n",
      "Distance between 113 and 114: 0.34366096866096996\n",
      "Distance between 113 and 115: 0.21632996632996537\n",
      "Distance between 113 and 116: 0.31911034746086386\n",
      "Distance between 113 and 117: 0.37791547237677037\n",
      "Distance between 113 and 118: 0.3043458030895181\n",
      "Distance between 113 and 119: 0.28622600702892953\n",
      "Distance between 113 and 120: 0.2556194125159692\n",
      "Distance between 114 and 115: 0.12733100233100458\n",
      "Distance between 114 and 116: 0.024550621200106093\n",
      "Distance between 114 and 117: 0.03425450371580041\n",
      "Distance between 114 and 118: 0.03931516557145187\n",
      "Distance between 114 and 119: 0.05743496163204043\n",
      "Distance between 114 and 120: 0.08804155614500075\n",
      "Distance between 115 and 116: 0.10278038113089849\n",
      "Distance between 115 and 117: 0.161585506046805\n",
      "Distance between 115 and 118: 0.08801583675955271\n",
      "Distance between 115 and 119: 0.06989604069896416\n",
      "Distance between 115 and 120: 0.03928944618600383\n",
      "Distance between 116 and 117: 0.058805124915906504\n",
      "Distance between 116 and 118: 0.014764544371345778\n",
      "Distance between 116 and 119: 0.032884340431934334\n",
      "Distance between 116 and 120: 0.06349093494489466\n",
      "Distance between 117 and 118: 0.07356966928725228\n",
      "Distance between 117 and 119: 0.09168946534784084\n",
      "Distance between 117 and 120: 0.12229605986080117\n",
      "Distance between 118 and 119: 0.018119796060588556\n",
      "Distance between 118 and 120: 0.04872639057354888\n",
      "Distance between 119 and 120: 0.030606594512960328\n"
     ]
    }
   ],
   "source": [
    "grouped_data = df.groupby('smart_1_normalized')\n",
    "class_means = {}\n",
    "for label, group in grouped_data:\n",
    "    mean = np.mean(group['smart_3_normalized'], axis=0)  \n",
    "    class_means[label] = mean\n",
    "unique_labels = list(class_means.keys())\n",
    "for i in range(len(unique_labels)):\n",
    "    for j in range(i + 1, len(unique_labels)):\n",
    "        label_1 = unique_labels[i]\n",
    "        label_2 = unique_labels[j]\n",
    "        mean_vector_1 = class_means[label_1]\n",
    "        mean_vector_2 = class_means[label_2]\n",
    "        distance = np.linalg.norm(mean_vector_1 - mean_vector_2)\n",
    "        print(f\"Distance between {label_1} and {label_2}: {distance}\")"
   ]
  },
  {
   "cell_type": "markdown",
   "id": "5447c8f7",
   "metadata": {},
   "source": [
    "# A2. Take any feature from your dataset. Observe the density pattern for that feature by plotting the histogram. Use buckets (data in ranges) for histogram generation and study. Calculate the mean and variance from the available data. "
   ]
  },
  {
   "cell_type": "code",
   "execution_count": 28,
   "id": "232a7b6e",
   "metadata": {
    "scrolled": true
   },
   "outputs": [
    {
     "data": {
      "image/png": "[encoded data removed]",
      "text/plain": [
       "<Figure size 640x480 with 1 Axes>"
      ]
     },
     "metadata": {},
     "output_type": "display_data"
    },
    {
     "name": "stdout",
     "output_type": "stream",
     "text": [
      "Mean: 115.2759535655058\n",
      "Variance: 15.872771686069802\n"
     ]
    },
    {
     "data": {
      "image/png": "[encoded data removed]",
      "text/plain": [
       "<Figure size 640x480 with 1 Axes>"
      ]
     },
     "metadata": {},
     "output_type": "display_data"
    },
    {
     "name": "stdout",
     "output_type": "stream",
     "text": [
      "Mean: 92.3983416252073\n",
      "Variance: 3.5909093559290532\n"
     ]
    }
   ],
   "source": [
    "\n",
    "feature_data = df['smart_1_normalized']\n",
    "num_bins = 20  \n",
    "# Plot the histogram\n",
    "plt.hist(feature_data, bins=num_bins, edgecolor='red')\n",
    "plt.xlabel('Feature Values')\n",
    "plt.ylabel('Frequency')\n",
    "plt.title('Histogram of Smart_1_Normalized')\n",
    "plt.show()\n",
    "# Calculate the mean and variance of the feature\n",
    "mean = np.mean(feature_data)\n",
    "variance = np.var(feature_data)\n",
    "print(f\"Mean: {mean}\")\n",
    "print(f\"Variance: {variance}\")\n",
    "\n",
    "\n",
    "\n",
    "feature_data = df['smart_3_normalized']\n",
    "num_bins = 20\n",
    "# Plot the histogram\n",
    "plt.hist(feature_data, bins=num_bins, edgecolor='red')\n",
    "plt.xlabel('Feature Values')\n",
    "plt.ylabel('Frequency')\n",
    "plt.title('Histogram of Smart_3_normalized')\n",
    "plt.show()\n",
    "# Calculate the mean and variance of the feature\n",
    "mean = np.mean(feature_data)\n",
    "variance = np.var(feature_data)\n",
    "print(f\"Mean: {mean}\")\n",
    "print(f\"Variance: {variance}\")"
   ]
  },
  {
   "cell_type": "markdown",
   "id": "4a09556f",
   "metadata": {},
   "source": [
    "# A3. Take any two feature vectors from your dataset. Calculate the Minkwoski distance with r from 1 to 10. Make a plot of the distance and observe the nature of this graph.\n"
   ]
  },
  {
   "cell_type": "code",
   "execution_count": 29,
   "id": "7daa0c30",
   "metadata": {},
   "outputs": [
    {
     "data": {
      "image/png": "[encoded data removed]",
      "text/plain": [
       "<Figure size 1000x600 with 1 Axes>"
      ]
     },
     "metadata": {},
     "output_type": "display_data"
    }
   ],
   "source": [
    "#A3\n",
    "import matplotlib.pyplot as plt\n",
    "import numpy as np\n",
    "from scipy.spatial import distance\n",
    "\n",
    "# Assuming data['smart_4_raw'] and data['smart_1_normalized'] are numpy arrays or lists\n",
    "feature_vector1 = df['smart_1_normalized']\n",
    "feature_vector2 = df['smart_4_normalized']\n",
    "\n",
    "# Values of r (Minkowski parameter)\n",
    "r_values = list(range(1, 11))\n",
    "\n",
    "# Calculate Minkowski distances for each value of r\n",
    "distances = [distance.minkowski(feature_vector1, feature_vector2, r) for r in r_values]\n",
    "\n",
    "# Plot the distances\n",
    "plt.figure(figsize=(10, 6))\n",
    "plt.plot(r_values, distances, marker='o', linestyle='--')\n",
    "plt.xlabel('r (Minkowski Parameter)')\n",
    "plt.ylabel('Minkowski Distance')\n",
    "plt.title('Minkowski Distance vs. r')\n",
    "plt.grid(True)\n",
    "plt.show()"
   ]
  },
  {
   "cell_type": "markdown",
   "id": "a603ee39",
   "metadata": {},
   "source": [
    "# A4. Divide dataset in your project into two parts – train & test set. To accomplish this, use the train\u0002test_split() function available in SciKit. See below sample code for help:\n"
   ]
  },
  {
   "cell_type": "code",
   "execution_count": 30,
   "id": "a42b0f0f",
   "metadata": {},
   "outputs": [
    {
     "name": "stdout",
     "output_type": "stream",
     "text": [
      "X_train shape: (2412, 1)\n",
      "y_train shape: (2412,)\n",
      "X_test shape: (603, 1)\n",
      "y_test shape: (603,)\n"
     ]
    }
   ],
   "source": [
    "import numpy as np\n",
    "from sklearn.model_selection import train_test_split\n",
    "\n",
    "X = df['capacity_bytes'] # Feature vector\n",
    "y = df['smart_4_normalized']  # Class label\n",
    "X = X.values.reshape(-1, 1) \n",
    "y = y.values.reshape(-1)\n",
    "\n",
    "# Split the dataset into a train set and a test set with a 70-30 split\n",
    "X_train, X_test, y_train, y_test = train_test_split(X, y, test_size=0.2, random_state=42)\n",
    "\n",
    "# Print the shapes of the resulting training and testing sets\n",
    "print(\"X_train shape:\", X_train.shape)\n",
    "print(\"y_train shape:\", y_train.shape)\n",
    "print(\"X_test shape:\", X_test.shape)\n",
    "print(\"y_test shape:\", y_test.shape)\n"
   ]
  },
  {
   "cell_type": "markdown",
   "id": "952776cc",
   "metadata": {},
   "source": [
    "# A5. Train a kNN classifier (k =3) using the training set obtained from above exercise. Following code for help:"
   ]
  },
  {
   "cell_type": "code",
   "execution_count": 31,
   "id": "5b15ea97",
   "metadata": {},
   "outputs": [
    {
     "data": {
      "text/html": [
       "<style>#sk-container-id-3 {color: black;}#sk-container-id-3 pre{padding: 0;}#sk-container-id-3 div.sk-toggleable {background-color: white;}#sk-container-id-3 label.sk-toggleable__label {cursor: pointer;display: block;width: 100%;margin-bottom: 0;padding: 0.3em;box-sizing: border-box;text-align: center;}#sk-container-id-3 label.sk-toggleable__label-arrow:before {content: \"▸\";float: left;margin-right: 0.25em;color: #696969;}#sk-container-id-3 label.sk-toggleable__label-arrow:hover:before {color: black;}#sk-container-id-3 div.sk-estimator:hover label.sk-toggleable__label-arrow:before {color: black;}#sk-container-id-3 div.sk-toggleable__content {max-height: 0;max-width: 0;overflow: hidden;text-align: left;background-color: #f0f8ff;}#sk-container-id-3 div.sk-toggleable__content pre {margin: 0.2em;color: black;border-radius: 0.25em;background-color: #f0f8ff;}#sk-container-id-3 input.sk-toggleable__control:checked~div.sk-toggleable__content {max-height: 200px;max-width: 100%;overflow: auto;}#sk-container-id-3 input.sk-toggleable__control:checked~label.sk-toggleable__label-arrow:before {content: \"▾\";}#sk-container-id-3 div.sk-estimator input.sk-toggleable__control:checked~label.sk-toggleable__label {background-color: #d4ebff;}#sk-container-id-3 div.sk-label input.sk-toggleable__control:checked~label.sk-toggleable__label {background-color: #d4ebff;}#sk-container-id-3 input.sk-hidden--visually {border: 0;clip: rect(1px 1px 1px 1px);clip: rect(1px, 1px, 1px, 1px);height: 1px;margin: -1px;overflow: hidden;padding: 0;position: absolute;width: 1px;}#sk-container-id-3 div.sk-estimator {font-family: monospace;background-color: #f0f8ff;border: 1px dotted black;border-radius: 0.25em;box-sizing: border-box;margin-bottom: 0.5em;}#sk-container-id-3 div.sk-estimator:hover {background-color: #d4ebff;}#sk-container-id-3 div.sk-parallel-item::after {content: \"\";width: 100%;border-bottom: 1px solid gray;flex-grow: 1;}#sk-container-id-3 div.sk-label:hover label.sk-toggleable__label {background-color: #d4ebff;}#sk-container-id-3 div.sk-serial::before {content: \"\";position: absolute;border-left: 1px solid gray;box-sizing: border-box;top: 0;bottom: 0;left: 50%;z-index: 0;}#sk-container-id-3 div.sk-serial {display: flex;flex-direction: column;align-items: center;background-color: white;padding-right: 0.2em;padding-left: 0.2em;position: relative;}#sk-container-id-3 div.sk-item {position: relative;z-index: 1;}#sk-container-id-3 div.sk-parallel {display: flex;align-items: stretch;justify-content: center;background-color: white;position: relative;}#sk-container-id-3 div.sk-item::before, #sk-container-id-3 div.sk-parallel-item::before {content: \"\";position: absolute;border-left: 1px solid gray;box-sizing: border-box;top: 0;bottom: 0;left: 50%;z-index: -1;}#sk-container-id-3 div.sk-parallel-item {display: flex;flex-direction: column;z-index: 1;position: relative;background-color: white;}#sk-container-id-3 div.sk-parallel-item:first-child::after {align-self: flex-end;width: 50%;}#sk-container-id-3 div.sk-parallel-item:last-child::after {align-self: flex-start;width: 50%;}#sk-container-id-3 div.sk-parallel-item:only-child::after {width: 0;}#sk-container-id-3 div.sk-dashed-wrapped {border: 1px dashed gray;margin: 0 0.4em 0.5em 0.4em;box-sizing: border-box;padding-bottom: 0.4em;background-color: white;}#sk-container-id-3 div.sk-label label {font-family: monospace;font-weight: bold;display: inline-block;line-height: 1.2em;}#sk-container-id-3 div.sk-label-container {text-align: center;}#sk-container-id-3 div.sk-container {/* jupyter's `normalize.less` sets `[hidden] { display: none; }` but bootstrap.min.css set `[hidden] { display: none !important; }` so we also need the `!important` here to be able to override the default hidden behavior on the sphinx rendered scikit-learn.org. See: https://github.com/scikit-learn/scikit-learn/issues/21755 */display: inline-block !important;position: relative;}#sk-container-id-3 div.sk-text-repr-fallback {display: none;}</style><div id=\"sk-container-id-3\" class=\"sk-top-container\"><div class=\"sk-text-repr-fallback\"><pre>KNeighborsClassifier(n_neighbors=3)</pre><b>In a Jupyter environment, please rerun this cell to show the HTML representation or trust the notebook. <br />On GitHub, the HTML representation is unable to render, please try loading this page with nbviewer.org.</b></div><div class=\"sk-container\" hidden><div class=\"sk-item\"><div class=\"sk-estimator sk-toggleable\"><input class=\"sk-toggleable__control sk-hidden--visually\" id=\"sk-estimator-id-3\" type=\"checkbox\" checked><label for=\"sk-estimator-id-3\" class=\"sk-toggleable__label sk-toggleable__label-arrow\">KNeighborsClassifier</label><div class=\"sk-toggleable__content\"><pre>KNeighborsClassifier(n_neighbors=3)</pre></div></div></div></div></div>"
      ],
      "text/plain": [
       "KNeighborsClassifier(n_neighbors=3)"
      ]
     },
     "execution_count": 31,
     "metadata": {},
     "output_type": "execute_result"
    }
   ],
   "source": [
    "#A5\n",
    "import numpy as np\n",
    "from sklearn.neighbors import KNeighborsClassifier\n",
    "# Assuming X_train and y_train are the training sets from the previous code\n",
    "# X_train has shape (num_training_samples, num_features)\n",
    "# y_train has shape (num_training_samples,)\n",
    "\n",
    "# Create and train the kNN classifier with k=3\n",
    "neigh = KNeighborsClassifier(n_neighbors=3)\n",
    "neigh.fit(X_train, y_train)\n"
   ]
  },
  {
   "cell_type": "markdown",
   "id": "ac0a3139",
   "metadata": {},
   "source": [
    "# A6. Test the accuracy of the kNN using the test set obtained from above exercise. Following code for help.\n"
   ]
  },
  {
   "cell_type": "code",
   "execution_count": 32,
   "id": "da32e6d1",
   "metadata": {},
   "outputs": [
    {
     "name": "stdout",
     "output_type": "stream",
     "text": [
      "Accuracy on the test set: 0.9635157545605307\n"
     ]
    }
   ],
   "source": [
    "#A6\n",
    "# Use the trained k-NN classifier to make predictions on the test set\n",
    "y_pred = neigh.predict(X_test)\n",
    "\n",
    "# Calculate the accuracy by comparing predicted labels (y_pred) with true labels (y_test)\n",
    "accuracy = neigh.score(X_test, y_test)\n",
    "\n",
    "# Print the accuracy\n",
    "print(f\"Accuracy on the test set: {accuracy}\")"
   ]
  },
  {
   "cell_type": "markdown",
   "id": "55942788",
   "metadata": {},
   "source": [
    "# A7. Use the predict() function to study the prediction behavior of the classifier for test vectors.\n"
   ]
  },
  {
   "cell_type": "code",
   "execution_count": 33,
   "id": "53ae4fc5",
   "metadata": {},
   "outputs": [
    {
     "name": "stdout",
     "output_type": "stream",
     "text": [
      "Predicted Labels for Test Vectors:\n",
      "[91 91 91 91 91 91 91 91 91 91 91 91 91 91 91 91 91 91 91 91 91 91 91 91\n",
      " 91 91 91 91 91 91 91 91 91 91 91 91 91 91 91 91 91 91 91 91 91 91 91 91\n",
      " 91 91 91 91 91 91 91 91 91 91 91 91 91 91 91 91 91 91 91 91 91 91 91 91\n",
      " 91 91 91 91 91 91 91 91 91 91 91 91 91 91 91 91 91 91 91 91 91 91 91 91\n",
      " 91 91 91 91 91 91 91 91 91 91 91 91 91 91 91 91 91 91 91 91 91 91 91 91\n",
      " 91 91 91 91 91 91 91 91 91 91 91 91 91 91 91 91 91 91 91 91 91 91 91 91\n",
      " 91 91 91 91 91 91 91 91 91 91 91 91 91 91 91 91 91 91 91 91 91 91 91 91\n",
      " 91 91 91 91 91 91 91 91 91 91 91 91 91 91 91 91 91 91 91 91 91 91 91 91\n",
      " 91 91 91 91 91 91 91 91 91 91 91 91 91 91 91 91 91 91 91 91 91 91 91 91\n",
      " 91 91 91 91 91 91 91 91 91 91 91 91 91 91 91 91 91 91 91 91 91 91 91 91\n",
      " 91 91 91 91 91 91 91 91 91 91 91 91 91 91 91 91 91 91 91 91 91 91 91 91\n",
      " 91 91 91 91 91 91 91 91 91 91 91 91 91 91 91 91 91 91 91 91 91 91 91 91\n",
      " 91 91 91 91 91 91 91 91 91 91 91 91 91 91 91 91 91 91 91 91 91 91 91 91\n",
      " 91 91 91 91 91 91 91 91 91 91 91 91 91 91 91 91 91 91 91 91 91 91 91 91\n",
      " 91 91 91 91 91 91 91 91 91 91 91 91 91 91 91 91 91 91 91 91 91 91 91 91\n",
      " 91 91 91 91 91 91 91 91 91 91 91 91 91 91 91 91 91 91 91 91 91 91 91 91\n",
      " 91 91 91 91 91 91 91 91 91 91 91 91 91 91 91 91 91 91 91 91 91 91 91 91\n",
      " 91 91 91 91 91 91 91 91 91 91 91 91 91 91 91 91 91 91 91 91 91 91 91 91\n",
      " 91 91 91 91 91 91 91 91 91 91 91 91 91 91 91 91 91 91 91 91 91 91 91 91\n",
      " 91 91 91 91 91 91 91 91 91 91 91 91 91 91 91 91 91 91 91 91 91 91 91 91\n",
      " 91 91 91 91 91 91 91 91 91 91 91 91 91 91 91 91 91 91 91 91 91 91 91 91\n",
      " 91 91 91 91 91 91 91 91 91 91 91 91 91 91 91 91 91 91 91 91 91 91 91 91\n",
      " 91 91 91 91 91 91 91 91 91 91 91 91 91 91 91 91 91 91 91 91 91 91 91 91\n",
      " 91 91 91 91 91 91 91 91 91 91 91 91 91 91 91 91 91 91 91 91 91 91 91 91\n",
      " 91 91 91 91 91 91 91 91 91 91 91 91 91 91 91 91 91 91 91 91 91 91 91 91\n",
      " 91 91 91]\n"
     ]
    }
   ],
   "source": [
    "#A7\n",
    "# Use the trained k-NN classifier to make predictions on the test set\n",
    "y_pred = neigh.predict(X_test)\n",
    "\n",
    "# Display the predicted labels for the test vectors\n",
    "print(\"Predicted Labels for Test Vectors:\")\n",
    "print(y_pred)"
   ]
  },
  {
   "cell_type": "markdown",
   "id": "c2866f0b",
   "metadata": {},
   "source": [
    "# A8. Make k = 1 to implement NN classifier and compare the results with kNN (k = 3). Vary k from 1 to 11 and make an accuracy plot.\n"
   ]
  },
  {
   "cell_type": "code",
   "execution_count": 34,
   "id": "bd7458f2",
   "metadata": {},
   "outputs": [
    {
     "data": {
      "image/png": "[encoded data removed]",
      "text/plain": [
       "<Figure size 1000x600 with 1 Axes>"
      ]
     },
     "metadata": {},
     "output_type": "display_data"
    }
   ],
   "source": [
    "#A8\n",
    "import numpy as np\n",
    "import matplotlib.pyplot as plt\n",
    "from sklearn.neighbors import KNeighborsClassifier\n",
    "from sklearn.metrics import accuracy_score\n",
    "\n",
    "# Assuming you have your dataset loaded into X_train, y_train, X_test, and y_test\n",
    "# X_train and X_test should have shape (num_samples, num_features)\n",
    "# y_train and y_test should have shape (num_samples,)\n",
    "\n",
    "# Vary k from 1 to 11\n",
    "k_values = range(1, 12)\n",
    "accuracies_knn = []\n",
    "accuracies_nn = []\n",
    "\n",
    "for k in k_values:\n",
    "    # Train kNN classifier with k neighbors\n",
    "    knn = KNeighborsClassifier(n_neighbors=k)\n",
    "    knn.fit(X_train, y_train)\n",
    "    y_pred_knn = knn.predict(X_test)\n",
    "    accuracy_knn = accuracy_score(y_test, y_pred_knn)\n",
    "    accuracies_knn.append(accuracy_knn)\n",
    "\n",
    "    # Train NN classifier with k=1 (equivalent to kNN with k=1)\n",
    "    nn = KNeighborsClassifier(n_neighbors=1)\n",
    "    nn.fit(X_train, y_train)\n",
    "    y_pred_nn = nn.predict(X_test)\n",
    "    accuracy_nn = accuracy_score(y_test, y_pred_nn)\n",
    "    accuracies_nn.append(accuracy_nn)\n",
    "\n",
    "# Plot the accuracies for kNN (k=3) and NN (k=1)\n",
    "plt.figure(figsize=(10, 6))\n",
    "plt.plot(k_values, accuracies_knn, label='kNN (k=3)')\n",
    "plt.plot(k_values, accuracies_nn, label='NN (k=1)')\n",
    "plt.xlabel('Number of Neighbors (k)')\n",
    "plt.ylabel('Accuracy')\n",
    "plt.title('Accuracy Comparison: kNN vs NN')\n",
    "plt.legend()\n",
    "plt.grid(False)\n",
    "plt.show()\n"
   ]
  },
  {
   "cell_type": "markdown",
   "id": "4fe61656",
   "metadata": {},
   "source": [
    "# A9. Please evaluate confusion matrix for your classification problem. From confusion matrix, the other performance metrics such as precision, recall and F1-Score measures for both training and test data. Based on your observations, infer the models learning outcome (underfit / regularfit / overfit)."
   ]
  },
  {
   "cell_type": "code",
   "execution_count": 35,
   "id": "5aea1f56",
   "metadata": {},
   "outputs": [
    {
     "name": "stdout",
     "output_type": "stream",
     "text": [
      "Confusion Matrix and Classification Report for 1-NN on Training Data:\n",
      "Confusion Matrix:\n",
      "[[2309    0    0    0    0    0    0    0    0]\n",
      " [  16    0    0    0    0    0    0    0    0]\n",
      " [  19    0    0    0    0    0    0    0    0]\n",
      " [  10    0    0    0    0    0    0    0    0]\n",
      " [  15    0    0    0    0    0    0    0    0]\n",
      " [  16    0    0    0    0    0    0    0    0]\n",
      " [  13    0    0    0    0    0    0    0    0]\n",
      " [   1    0    0    0    0    0    0    0    0]\n",
      " [  13    0    0    0    0    0    0    0    0]]\n",
      "Classification Report:\n",
      "              precision    recall  f1-score   support\n",
      "\n",
      "          91       0.96      1.00      0.98      2309\n",
      "          92       0.00      0.00      0.00        16\n",
      "          93       0.00      0.00      0.00        19\n",
      "          94       0.00      0.00      0.00        10\n",
      "          95       0.00      0.00      0.00        15\n",
      "          96       0.00      0.00      0.00        16\n",
      "          97       0.00      0.00      0.00        13\n",
      "          98       0.00      0.00      0.00         1\n",
      "          99       0.00      0.00      0.00        13\n",
      "\n",
      "    accuracy                           0.96      2412\n",
      "   macro avg       0.11      0.11      0.11      2412\n",
      "weighted avg       0.92      0.96      0.94      2412\n",
      "\n",
      "\n",
      "Confusion Matrix and Classification Report for 1-NN on Test Data:\n",
      "Confusion Matrix:\n",
      "[[581   0   0   0   0   0   0   0]\n",
      " [  2   0   0   0   0   0   0   0]\n",
      " [  5   0   0   0   0   0   0   0]\n",
      " [  2   0   0   0   0   0   0   0]\n",
      " [  2   0   0   0   0   0   0   0]\n",
      " [  3   0   0   0   0   0   0   0]\n",
      " [  4   0   0   0   0   0   0   0]\n",
      " [  4   0   0   0   0   0   0   0]]\n",
      "Classification Report:\n",
      "              precision    recall  f1-score   support\n",
      "\n",
      "          91       0.96      1.00      0.98       581\n",
      "          92       0.00      0.00      0.00         2\n",
      "          93       0.00      0.00      0.00         5\n",
      "          94       0.00      0.00      0.00         2\n",
      "          95       0.00      0.00      0.00         2\n",
      "          96       0.00      0.00      0.00         3\n",
      "          97       0.00      0.00      0.00         4\n",
      "          99       0.00      0.00      0.00         4\n",
      "\n",
      "    accuracy                           0.96       603\n",
      "   macro avg       0.12      0.12      0.12       603\n",
      "weighted avg       0.93      0.96      0.95       603\n",
      "\n"
     ]
    },
    {
     "name": "stderr",
     "output_type": "stream",
     "text": [
      "C:\\Users\\91993\\anaconda3\\Lib\\site-packages\\sklearn\\metrics\\_classification.py:1469: UndefinedMetricWarning: Precision and F-score are ill-defined and being set to 0.0 in labels with no predicted samples. Use `zero_division` parameter to control this behavior.\n",
      "  _warn_prf(average, modifier, msg_start, len(result))\n",
      "C:\\Users\\91993\\anaconda3\\Lib\\site-packages\\sklearn\\metrics\\_classification.py:1469: UndefinedMetricWarning: Precision and F-score are ill-defined and being set to 0.0 in labels with no predicted samples. Use `zero_division` parameter to control this behavior.\n",
      "  _warn_prf(average, modifier, msg_start, len(result))\n",
      "C:\\Users\\91993\\anaconda3\\Lib\\site-packages\\sklearn\\metrics\\_classification.py:1469: UndefinedMetricWarning: Precision and F-score are ill-defined and being set to 0.0 in labels with no predicted samples. Use `zero_division` parameter to control this behavior.\n",
      "  _warn_prf(average, modifier, msg_start, len(result))\n",
      "C:\\Users\\91993\\anaconda3\\Lib\\site-packages\\sklearn\\metrics\\_classification.py:1469: UndefinedMetricWarning: Precision and F-score are ill-defined and being set to 0.0 in labels with no predicted samples. Use `zero_division` parameter to control this behavior.\n",
      "  _warn_prf(average, modifier, msg_start, len(result))\n",
      "C:\\Users\\91993\\anaconda3\\Lib\\site-packages\\sklearn\\metrics\\_classification.py:1469: UndefinedMetricWarning: Precision and F-score are ill-defined and being set to 0.0 in labels with no predicted samples. Use `zero_division` parameter to control this behavior.\n",
      "  _warn_prf(average, modifier, msg_start, len(result))\n",
      "C:\\Users\\91993\\anaconda3\\Lib\\site-packages\\sklearn\\metrics\\_classification.py:1469: UndefinedMetricWarning: Precision and F-score are ill-defined and being set to 0.0 in labels with no predicted samples. Use `zero_division` parameter to control this behavior.\n",
      "  _warn_prf(average, modifier, msg_start, len(result))\n"
     ]
    }
   ],
   "source": [
    "#A9\n",
    "from sklearn.metrics import confusion_matrix, classification_report\n",
    "knn_1nn = KNeighborsClassifier(n_neighbors=1)\n",
    "knn_1nn.fit(X_train, y_train)\n",
    "\n",
    "# Evaluate confusion matrix and performance metrics for 1-NN on both training and test data\n",
    "y_train_pred_1nn = knn_1nn.predict(X_train)\n",
    "y_test_pred_1nn = knn_1nn.predict(X_test)\n",
    "\n",
    "confusion_matrix_train_1nn = confusion_matrix(y_train, y_train_pred_1nn)\n",
    "confusion_matrix_test_1nn = confusion_matrix(y_test, y_test_pred_1nn)\n",
    "\n",
    "classification_report_train_1nn = classification_report(y_train, y_train_pred_1nn)\n",
    "classification_report_test_1nn = classification_report(y_test, y_test_pred_1nn)\n",
    "\n",
    "# Print the confusion matrices and classification reports\n",
    "print(\"Confusion Matrix and Classification Report for 1-NN on Training Data:\")\n",
    "print(\"Confusion Matrix:\")\n",
    "print(confusion_matrix_train_1nn)\n",
    "print(\"Classification Report:\")\n",
    "print(classification_report_train_1nn)\n",
    "\n",
    "print(\"\\nConfusion Matrix and Classification Report for 1-NN on Test Data:\")\n",
    "print(\"Confusion Matrix:\")\n",
    "print(confusion_matrix_test_1nn)\n",
    "print(\"Classification Report:\")\n",
    "print(classification_report_test_1nn)"
   ]
  },
  {
   "cell_type": "code",
   "execution_count": null,
   "id": "dd51f133",
   "metadata": {},
   "outputs": [],
   "source": []
  }
 ],
 "metadata": {
  "kernelspec": {
   "display_name": "Python 3 (ipykernel)",
   "language": "python",
   "name": "python3"
  },
  "language_info": {
   "codemirror_mode": {
    "name": "ipython",
    "version": 3
   },
   "file_extension": ".py",
   "mimetype": "text/x-python",
   "name": "python",
   "nbconvert_exporter": "python",
   "pygments_lexer": "ipython3",
   "version": "3.11.4"
  }
 },
 "nbformat": 4,
 "nbformat_minor": 5
}
